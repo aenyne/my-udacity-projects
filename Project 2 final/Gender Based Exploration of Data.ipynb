{
 "cells": [
  {
   "cell_type": "markdown",
   "metadata": {},
   "source": [
    "# Project: Data Investigation Based on Gender Diversity \n",
    "\n",
    "## Table of Contents\n",
    "<ul>\n",
    "<li><a href=\"#intro\">Introduction</a></li>\n",
    "<li><a href=\"#wrangling\">Data Wrangling</a></li>\n",
    "<li><a href=\"#eda\">Exploratory Data Analysis</a></li>\n",
    "<li><a href=\"#conclusions\">Conclusions</a></li>\n",
    "</ul>"
   ]
  },
  {
   "cell_type": "markdown",
   "metadata": {},
   "source": [
    "<a id='intro'></a>\n",
    "## Introduction\n",
    "\n",
    "> After I became mother I expecienced it firsthand how much your standing in your job and live actually does change. This sad experience let me notice how much biased we are and how poorly our work, government and even leisure is oriented at families and women. Since then, I have been engaged in exploring gender diversity issues, reading articles etc. Once, I read that companies that are more (gender) diversified are also more profitable (provided by the Gender Diversity Index). In this project, my goal is to investigate country data based on diversity issues to find out, how a greater gender diversity correlates with different areas relevant human fields. \n",
    "\n",
    "> For this, I have used The Gapminder Data to download the following Data sheets: \n",
    "1. Sex ratio (all age groups) as sex_ratio_all_age_groups.csv"
   ]
  },
  {
   "cell_type": "code",
   "execution_count": 2,
   "metadata": {},
   "outputs": [],
   "source": [
    "%matplotlib inline\n",
    "\n",
    "import matplotlib.pyplot as plt\n",
    "import numpy as np\n",
    "import pandas as pd\n",
    "import seaborn as sns"
   ]
  },
  {
   "cell_type": "markdown",
   "metadata": {},
   "source": [
    "<a id='wrangling'></a>\n",
    "## Data Wrangling\n",
    "\n",
    "> First of all, I will check the CSVs for missing data, clean up and merge datasets to prepare for my analysis.\n",
    "\n",
    "### General Properties"
   ]
  },
  {
   "cell_type": "code",
   "execution_count": 95,
   "metadata": {},
   "outputs": [
    {
     "data": {
      "text/html": [
       "<div>\n",
       "<style scoped>\n",
       "    .dataframe tbody tr th:only-of-type {\n",
       "        vertical-align: middle;\n",
       "    }\n",
       "\n",
       "    .dataframe tbody tr th {\n",
       "        vertical-align: top;\n",
       "    }\n",
       "\n",
       "    .dataframe thead th {\n",
       "        text-align: right;\n",
       "    }\n",
       "</style>\n",
       "<table border=\"1\" class=\"dataframe\">\n",
       "  <thead>\n",
       "    <tr style=\"text-align: right;\">\n",
       "      <th></th>\n",
       "      <th>country</th>\n",
       "      <th>1950</th>\n",
       "      <th>1951</th>\n",
       "      <th>1952</th>\n",
       "      <th>1953</th>\n",
       "      <th>1954</th>\n",
       "      <th>1955</th>\n",
       "      <th>1956</th>\n",
       "      <th>1957</th>\n",
       "      <th>1958</th>\n",
       "      <th>...</th>\n",
       "      <th>2091</th>\n",
       "      <th>2092</th>\n",
       "      <th>2093</th>\n",
       "      <th>2094</th>\n",
       "      <th>2095</th>\n",
       "      <th>2096</th>\n",
       "      <th>2097</th>\n",
       "      <th>2098</th>\n",
       "      <th>2099</th>\n",
       "      <th>2100</th>\n",
       "    </tr>\n",
       "  </thead>\n",
       "  <tbody>\n",
       "    <tr>\n",
       "      <th>0</th>\n",
       "      <td>Afghanistan</td>\n",
       "      <td>112.0</td>\n",
       "      <td>NaN</td>\n",
       "      <td>NaN</td>\n",
       "      <td>NaN</td>\n",
       "      <td>NaN</td>\n",
       "      <td>109.0</td>\n",
       "      <td>NaN</td>\n",
       "      <td>NaN</td>\n",
       "      <td>NaN</td>\n",
       "      <td>...</td>\n",
       "      <td>NaN</td>\n",
       "      <td>NaN</td>\n",
       "      <td>NaN</td>\n",
       "      <td>NaN</td>\n",
       "      <td>98.6</td>\n",
       "      <td>NaN</td>\n",
       "      <td>NaN</td>\n",
       "      <td>NaN</td>\n",
       "      <td>NaN</td>\n",
       "      <td>98.4</td>\n",
       "    </tr>\n",
       "    <tr>\n",
       "      <th>1</th>\n",
       "      <td>Albania</td>\n",
       "      <td>105.0</td>\n",
       "      <td>NaN</td>\n",
       "      <td>NaN</td>\n",
       "      <td>NaN</td>\n",
       "      <td>NaN</td>\n",
       "      <td>106.0</td>\n",
       "      <td>NaN</td>\n",
       "      <td>NaN</td>\n",
       "      <td>NaN</td>\n",
       "      <td>...</td>\n",
       "      <td>NaN</td>\n",
       "      <td>NaN</td>\n",
       "      <td>NaN</td>\n",
       "      <td>NaN</td>\n",
       "      <td>104.0</td>\n",
       "      <td>NaN</td>\n",
       "      <td>NaN</td>\n",
       "      <td>NaN</td>\n",
       "      <td>NaN</td>\n",
       "      <td>104.0</td>\n",
       "    </tr>\n",
       "    <tr>\n",
       "      <th>2</th>\n",
       "      <td>Algeria</td>\n",
       "      <td>103.0</td>\n",
       "      <td>NaN</td>\n",
       "      <td>NaN</td>\n",
       "      <td>NaN</td>\n",
       "      <td>NaN</td>\n",
       "      <td>102.0</td>\n",
       "      <td>NaN</td>\n",
       "      <td>NaN</td>\n",
       "      <td>NaN</td>\n",
       "      <td>...</td>\n",
       "      <td>NaN</td>\n",
       "      <td>NaN</td>\n",
       "      <td>NaN</td>\n",
       "      <td>NaN</td>\n",
       "      <td>103.0</td>\n",
       "      <td>NaN</td>\n",
       "      <td>NaN</td>\n",
       "      <td>NaN</td>\n",
       "      <td>NaN</td>\n",
       "      <td>103.0</td>\n",
       "    </tr>\n",
       "    <tr>\n",
       "      <th>3</th>\n",
       "      <td>Angola</td>\n",
       "      <td>94.2</td>\n",
       "      <td>NaN</td>\n",
       "      <td>NaN</td>\n",
       "      <td>NaN</td>\n",
       "      <td>NaN</td>\n",
       "      <td>94.4</td>\n",
       "      <td>NaN</td>\n",
       "      <td>NaN</td>\n",
       "      <td>NaN</td>\n",
       "      <td>...</td>\n",
       "      <td>NaN</td>\n",
       "      <td>NaN</td>\n",
       "      <td>NaN</td>\n",
       "      <td>NaN</td>\n",
       "      <td>95.6</td>\n",
       "      <td>NaN</td>\n",
       "      <td>NaN</td>\n",
       "      <td>NaN</td>\n",
       "      <td>NaN</td>\n",
       "      <td>95.5</td>\n",
       "    </tr>\n",
       "    <tr>\n",
       "      <th>4</th>\n",
       "      <td>Antigua and Barbuda</td>\n",
       "      <td>97.4</td>\n",
       "      <td>NaN</td>\n",
       "      <td>NaN</td>\n",
       "      <td>NaN</td>\n",
       "      <td>NaN</td>\n",
       "      <td>97.8</td>\n",
       "      <td>NaN</td>\n",
       "      <td>NaN</td>\n",
       "      <td>NaN</td>\n",
       "      <td>...</td>\n",
       "      <td>NaN</td>\n",
       "      <td>NaN</td>\n",
       "      <td>NaN</td>\n",
       "      <td>NaN</td>\n",
       "      <td>97.9</td>\n",
       "      <td>NaN</td>\n",
       "      <td>NaN</td>\n",
       "      <td>NaN</td>\n",
       "      <td>NaN</td>\n",
       "      <td>97.9</td>\n",
       "    </tr>\n",
       "  </tbody>\n",
       "</table>\n",
       "<p>5 rows × 152 columns</p>\n",
       "</div>"
      ],
      "text/plain": [
       "               country   1950  1951  1952  1953  1954   1955  1956  1957  \\\n",
       "0          Afghanistan  112.0   NaN   NaN   NaN   NaN  109.0   NaN   NaN   \n",
       "1              Albania  105.0   NaN   NaN   NaN   NaN  106.0   NaN   NaN   \n",
       "2              Algeria  103.0   NaN   NaN   NaN   NaN  102.0   NaN   NaN   \n",
       "3               Angola   94.2   NaN   NaN   NaN   NaN   94.4   NaN   NaN   \n",
       "4  Antigua and Barbuda   97.4   NaN   NaN   NaN   NaN   97.8   NaN   NaN   \n",
       "\n",
       "   1958  ...    2091  2092  2093  2094   2095  2096  2097  2098  2099   2100  \n",
       "0   NaN  ...     NaN   NaN   NaN   NaN   98.6   NaN   NaN   NaN   NaN   98.4  \n",
       "1   NaN  ...     NaN   NaN   NaN   NaN  104.0   NaN   NaN   NaN   NaN  104.0  \n",
       "2   NaN  ...     NaN   NaN   NaN   NaN  103.0   NaN   NaN   NaN   NaN  103.0  \n",
       "3   NaN  ...     NaN   NaN   NaN   NaN   95.6   NaN   NaN   NaN   NaN   95.5  \n",
       "4   NaN  ...     NaN   NaN   NaN   NaN   97.9   NaN   NaN   NaN   NaN   97.9  \n",
       "\n",
       "[5 rows x 152 columns]"
      ]
     },
     "execution_count": 95,
     "metadata": {},
     "output_type": "execute_result"
    }
   ],
   "source": [
    "df_sex = pd.read_csv ('sex_ratio_all_age_groups.csv')\n",
    "df_sex.head()"
   ]
  },
  {
   "cell_type": "markdown",
   "metadata": {},
   "source": [
    "> This Dataset describes the sex ratio as male divided by female (by 100) among all age groups per country, which means if ratio is > 100 then male dominates if <100 then female dominates. \n",
    "It looks like there ratio is investigated only every five years and there are four years of cells with missing information following an entry. "
   ]
  },
  {
   "cell_type": "code",
   "execution_count": 96,
   "metadata": {},
   "outputs": [
    {
     "data": {
      "text/plain": [
       "(184, 152)"
      ]
     },
     "execution_count": 96,
     "metadata": {},
     "output_type": "execute_result"
    }
   ],
   "source": [
    "df_sex.shape"
   ]
  },
  {
   "cell_type": "markdown",
   "metadata": {},
   "source": [
    "> 152 are a lo of columns. To make it less complex, I will drop the NaN cells."
   ]
  },
  {
   "cell_type": "code",
   "execution_count": 97,
   "metadata": {},
   "outputs": [
    {
     "data": {
      "text/plain": [
       "(184, 32)"
      ]
     },
     "execution_count": 97,
     "metadata": {},
     "output_type": "execute_result"
    }
   ],
   "source": [
    "df_sex.dropna(axis=1, inplace=True)\n",
    "df_sex.shape"
   ]
  },
  {
   "cell_type": "markdown",
   "metadata": {
    "collapsed": true
   },
   "source": [
    ">Now it is less complex. I will check the data for other missing values or duplicates."
   ]
  },
  {
   "cell_type": "code",
   "execution_count": 52,
   "metadata": {},
   "outputs": [
    {
     "data": {
      "text/plain": [
       "False"
      ]
     },
     "execution_count": 52,
     "metadata": {},
     "output_type": "execute_result"
    }
   ],
   "source": [
    "df_sex.isnull().sum().any()"
   ]
  },
  {
   "cell_type": "markdown",
   "metadata": {},
   "source": [
    ">Moreover, I noticed that there is data beyond 2020 provided. I will not need it for the moment, so I will drop it and select only the data from 1950 to 2020). "
   ]
  },
  {
   "cell_type": "code",
   "execution_count": 102,
   "metadata": {},
   "outputs": [
    {
     "data": {
      "text/html": [
       "<div>\n",
       "<style scoped>\n",
       "    .dataframe tbody tr th:only-of-type {\n",
       "        vertical-align: middle;\n",
       "    }\n",
       "\n",
       "    .dataframe tbody tr th {\n",
       "        vertical-align: top;\n",
       "    }\n",
       "\n",
       "    .dataframe thead th {\n",
       "        text-align: right;\n",
       "    }\n",
       "</style>\n",
       "<table border=\"1\" class=\"dataframe\">\n",
       "  <thead>\n",
       "    <tr style=\"text-align: right;\">\n",
       "      <th></th>\n",
       "      <th>country</th>\n",
       "      <th>1950</th>\n",
       "      <th>1955</th>\n",
       "      <th>1960</th>\n",
       "      <th>1965</th>\n",
       "      <th>1970</th>\n",
       "      <th>1975</th>\n",
       "      <th>1980</th>\n",
       "      <th>1985</th>\n",
       "      <th>1990</th>\n",
       "      <th>1995</th>\n",
       "      <th>2000</th>\n",
       "      <th>2005</th>\n",
       "      <th>2010</th>\n",
       "      <th>2015</th>\n",
       "      <th>2020</th>\n",
       "    </tr>\n",
       "  </thead>\n",
       "  <tbody>\n",
       "    <tr>\n",
       "      <th>0</th>\n",
       "      <td>Afghanistan</td>\n",
       "      <td>112.0</td>\n",
       "      <td>109.0</td>\n",
       "      <td>107.0</td>\n",
       "      <td>105.0</td>\n",
       "      <td>104.0</td>\n",
       "      <td>103.0</td>\n",
       "      <td>103.0</td>\n",
       "      <td>104.0</td>\n",
       "      <td>105.0</td>\n",
       "      <td>107.0</td>\n",
       "      <td>106.0</td>\n",
       "      <td>107.0</td>\n",
       "      <td>106.0</td>\n",
       "      <td>106.0</td>\n",
       "      <td>106.0</td>\n",
       "    </tr>\n",
       "    <tr>\n",
       "      <th>1</th>\n",
       "      <td>Albania</td>\n",
       "      <td>105.0</td>\n",
       "      <td>106.0</td>\n",
       "      <td>106.0</td>\n",
       "      <td>106.0</td>\n",
       "      <td>106.0</td>\n",
       "      <td>106.0</td>\n",
       "      <td>106.0</td>\n",
       "      <td>106.0</td>\n",
       "      <td>105.0</td>\n",
       "      <td>96.9</td>\n",
       "      <td>102.0</td>\n",
       "      <td>101.0</td>\n",
       "      <td>101.0</td>\n",
       "      <td>102.0</td>\n",
       "      <td>102.0</td>\n",
       "    </tr>\n",
       "    <tr>\n",
       "      <th>2</th>\n",
       "      <td>Algeria</td>\n",
       "      <td>103.0</td>\n",
       "      <td>102.0</td>\n",
       "      <td>101.0</td>\n",
       "      <td>101.0</td>\n",
       "      <td>101.0</td>\n",
       "      <td>101.0</td>\n",
       "      <td>102.0</td>\n",
       "      <td>102.0</td>\n",
       "      <td>103.0</td>\n",
       "      <td>103.0</td>\n",
       "      <td>103.0</td>\n",
       "      <td>102.0</td>\n",
       "      <td>102.0</td>\n",
       "      <td>102.0</td>\n",
       "      <td>102.0</td>\n",
       "    </tr>\n",
       "    <tr>\n",
       "      <th>3</th>\n",
       "      <td>Angola</td>\n",
       "      <td>94.2</td>\n",
       "      <td>94.4</td>\n",
       "      <td>94.6</td>\n",
       "      <td>94.7</td>\n",
       "      <td>95.0</td>\n",
       "      <td>95.3</td>\n",
       "      <td>95.6</td>\n",
       "      <td>95.6</td>\n",
       "      <td>95.7</td>\n",
       "      <td>95.5</td>\n",
       "      <td>95.6</td>\n",
       "      <td>95.6</td>\n",
       "      <td>95.8</td>\n",
       "      <td>96.1</td>\n",
       "      <td>96.4</td>\n",
       "    </tr>\n",
       "    <tr>\n",
       "      <th>4</th>\n",
       "      <td>Antigua and Barbuda</td>\n",
       "      <td>97.4</td>\n",
       "      <td>97.8</td>\n",
       "      <td>89.0</td>\n",
       "      <td>90.6</td>\n",
       "      <td>91.5</td>\n",
       "      <td>92.0</td>\n",
       "      <td>95.3</td>\n",
       "      <td>94.4</td>\n",
       "      <td>93.6</td>\n",
       "      <td>94.6</td>\n",
       "      <td>89.1</td>\n",
       "      <td>92.1</td>\n",
       "      <td>92.0</td>\n",
       "      <td>92.2</td>\n",
       "      <td>92.4</td>\n",
       "    </tr>\n",
       "  </tbody>\n",
       "</table>\n",
       "</div>"
      ],
      "text/plain": [
       "               country   1950   1955   1960   1965   1970   1975   1980  \\\n",
       "0          Afghanistan  112.0  109.0  107.0  105.0  104.0  103.0  103.0   \n",
       "1              Albania  105.0  106.0  106.0  106.0  106.0  106.0  106.0   \n",
       "2              Algeria  103.0  102.0  101.0  101.0  101.0  101.0  102.0   \n",
       "3               Angola   94.2   94.4   94.6   94.7   95.0   95.3   95.6   \n",
       "4  Antigua and Barbuda   97.4   97.8   89.0   90.6   91.5   92.0   95.3   \n",
       "\n",
       "    1985   1990   1995   2000   2005   2010   2015   2020  \n",
       "0  104.0  105.0  107.0  106.0  107.0  106.0  106.0  106.0  \n",
       "1  106.0  105.0   96.9  102.0  101.0  101.0  102.0  102.0  \n",
       "2  102.0  103.0  103.0  103.0  102.0  102.0  102.0  102.0  \n",
       "3   95.6   95.7   95.5   95.6   95.6   95.8   96.1   96.4  \n",
       "4   94.4   93.6   94.6   89.1   92.1   92.0   92.2   92.4  "
      ]
     },
     "execution_count": 102,
     "metadata": {},
     "output_type": "execute_result"
    }
   ],
   "source": [
    "df_ps = df_sex.iloc[:, :16]\n",
    "df_ps.head()"
   ]
  },
  {
   "cell_type": "code",
   "execution_count": 103,
   "metadata": {},
   "outputs": [
    {
     "data": {
      "text/plain": [
       "(184, 16)"
      ]
     },
     "execution_count": 103,
     "metadata": {},
     "output_type": "execute_result"
    }
   ],
   "source": [
    "df_ps.shape"
   ]
  },
  {
   "cell_type": "code",
   "execution_count": 105,
   "metadata": {},
   "outputs": [
    {
     "data": {
      "text/plain": [
       "0"
      ]
     },
     "execution_count": 105,
     "metadata": {},
     "output_type": "execute_result"
    }
   ],
   "source": [
    "sum(df_ps.duplicated())"
   ]
  },
  {
   "cell_type": "markdown",
   "metadata": {},
   "source": [
    ">The first dataset is ready for data exploration."
   ]
  },
  {
   "cell_type": "markdown",
   "metadata": {},
   "source": [
    "<a id='eda'></a>\n",
    "## Exploratory Data Analysis\n",
    "\n",
    "### Research Question 1: Is the world female or male? \n",
    "> To answer the first question, I want to find out how the ratio develops over time. First of all, I will have a general view at the statistics of the data."
   ]
  },
  {
   "cell_type": "code",
   "execution_count": 106,
   "metadata": {},
   "outputs": [
    {
     "data": {
      "text/html": [
       "<div>\n",
       "<style scoped>\n",
       "    .dataframe tbody tr th:only-of-type {\n",
       "        vertical-align: middle;\n",
       "    }\n",
       "\n",
       "    .dataframe tbody tr th {\n",
       "        vertical-align: top;\n",
       "    }\n",
       "\n",
       "    .dataframe thead th {\n",
       "        text-align: right;\n",
       "    }\n",
       "</style>\n",
       "<table border=\"1\" class=\"dataframe\">\n",
       "  <thead>\n",
       "    <tr style=\"text-align: right;\">\n",
       "      <th></th>\n",
       "      <th>1950</th>\n",
       "      <th>1955</th>\n",
       "      <th>1960</th>\n",
       "      <th>1965</th>\n",
       "      <th>1970</th>\n",
       "      <th>1975</th>\n",
       "      <th>1980</th>\n",
       "      <th>1985</th>\n",
       "      <th>1990</th>\n",
       "      <th>1995</th>\n",
       "      <th>2000</th>\n",
       "      <th>2005</th>\n",
       "      <th>2010</th>\n",
       "      <th>2015</th>\n",
       "      <th>2020</th>\n",
       "    </tr>\n",
       "  </thead>\n",
       "  <tbody>\n",
       "    <tr>\n",
       "      <th>count</th>\n",
       "      <td>184.000000</td>\n",
       "      <td>184.000000</td>\n",
       "      <td>184.000000</td>\n",
       "      <td>184.000000</td>\n",
       "      <td>184.000000</td>\n",
       "      <td>184.000000</td>\n",
       "      <td>184.000000</td>\n",
       "      <td>184.000000</td>\n",
       "      <td>184.000000</td>\n",
       "      <td>184.000000</td>\n",
       "      <td>184.000000</td>\n",
       "      <td>184.000000</td>\n",
       "      <td>184.000000</td>\n",
       "      <td>184.000000</td>\n",
       "      <td>184.000000</td>\n",
       "    </tr>\n",
       "    <tr>\n",
       "      <th>mean</th>\n",
       "      <td>98.636413</td>\n",
       "      <td>98.689674</td>\n",
       "      <td>98.772826</td>\n",
       "      <td>99.108696</td>\n",
       "      <td>99.324457</td>\n",
       "      <td>99.879891</td>\n",
       "      <td>100.044565</td>\n",
       "      <td>100.062500</td>\n",
       "      <td>100.205435</td>\n",
       "      <td>100.248913</td>\n",
       "      <td>100.063043</td>\n",
       "      <td>100.596196</td>\n",
       "      <td>101.782065</td>\n",
       "      <td>101.902174</td>\n",
       "      <td>102.003261</td>\n",
       "    </tr>\n",
       "    <tr>\n",
       "      <th>std</th>\n",
       "      <td>8.936365</td>\n",
       "      <td>8.694396</td>\n",
       "      <td>9.311103</td>\n",
       "      <td>9.138493</td>\n",
       "      <td>9.789528</td>\n",
       "      <td>13.192860</td>\n",
       "      <td>12.731213</td>\n",
       "      <td>11.692338</td>\n",
       "      <td>12.012301</td>\n",
       "      <td>12.230563</td>\n",
       "      <td>12.179210</td>\n",
       "      <td>14.790779</td>\n",
       "      <td>22.882347</td>\n",
       "      <td>22.148404</td>\n",
       "      <td>21.279246</td>\n",
       "    </tr>\n",
       "    <tr>\n",
       "      <th>min</th>\n",
       "      <td>74.400000</td>\n",
       "      <td>76.900000</td>\n",
       "      <td>79.000000</td>\n",
       "      <td>82.000000</td>\n",
       "      <td>83.400000</td>\n",
       "      <td>84.200000</td>\n",
       "      <td>84.900000</td>\n",
       "      <td>85.800000</td>\n",
       "      <td>86.900000</td>\n",
       "      <td>85.400000</td>\n",
       "      <td>85.000000</td>\n",
       "      <td>84.700000</td>\n",
       "      <td>84.500000</td>\n",
       "      <td>84.800000</td>\n",
       "      <td>85.100000</td>\n",
       "    </tr>\n",
       "    <tr>\n",
       "      <th>25%</th>\n",
       "      <td>94.400000</td>\n",
       "      <td>94.675000</td>\n",
       "      <td>94.700000</td>\n",
       "      <td>94.975000</td>\n",
       "      <td>95.475000</td>\n",
       "      <td>95.850000</td>\n",
       "      <td>95.875000</td>\n",
       "      <td>96.000000</td>\n",
       "      <td>96.075000</td>\n",
       "      <td>96.100000</td>\n",
       "      <td>96.275000</td>\n",
       "      <td>96.075000</td>\n",
       "      <td>96.400000</td>\n",
       "      <td>96.600000</td>\n",
       "      <td>96.675000</td>\n",
       "    </tr>\n",
       "    <tr>\n",
       "      <th>50%</th>\n",
       "      <td>98.550000</td>\n",
       "      <td>98.700000</td>\n",
       "      <td>98.700000</td>\n",
       "      <td>98.850000</td>\n",
       "      <td>98.900000</td>\n",
       "      <td>98.900000</td>\n",
       "      <td>98.600000</td>\n",
       "      <td>98.550000</td>\n",
       "      <td>98.400000</td>\n",
       "      <td>98.300000</td>\n",
       "      <td>98.450000</td>\n",
       "      <td>98.450000</td>\n",
       "      <td>98.650000</td>\n",
       "      <td>99.000000</td>\n",
       "      <td>99.050000</td>\n",
       "    </tr>\n",
       "    <tr>\n",
       "      <th>75%</th>\n",
       "      <td>103.000000</td>\n",
       "      <td>102.000000</td>\n",
       "      <td>102.000000</td>\n",
       "      <td>102.000000</td>\n",
       "      <td>102.000000</td>\n",
       "      <td>102.000000</td>\n",
       "      <td>102.000000</td>\n",
       "      <td>102.000000</td>\n",
       "      <td>101.000000</td>\n",
       "      <td>101.000000</td>\n",
       "      <td>101.000000</td>\n",
       "      <td>101.000000</td>\n",
       "      <td>101.000000</td>\n",
       "      <td>101.000000</td>\n",
       "      <td>101.000000</td>\n",
       "    </tr>\n",
       "    <tr>\n",
       "      <th>max</th>\n",
       "      <td>148.000000</td>\n",
       "      <td>159.000000</td>\n",
       "      <td>179.000000</td>\n",
       "      <td>160.000000</td>\n",
       "      <td>176.000000</td>\n",
       "      <td>227.000000</td>\n",
       "      <td>229.000000</td>\n",
       "      <td>202.000000</td>\n",
       "      <td>203.000000</td>\n",
       "      <td>198.000000</td>\n",
       "      <td>208.000000</td>\n",
       "      <td>236.000000</td>\n",
       "      <td>314.000000</td>\n",
       "      <td>307.000000</td>\n",
       "      <td>293.000000</td>\n",
       "    </tr>\n",
       "  </tbody>\n",
       "</table>\n",
       "</div>"
      ],
      "text/plain": [
       "             1950        1955        1960        1965        1970        1975  \\\n",
       "count  184.000000  184.000000  184.000000  184.000000  184.000000  184.000000   \n",
       "mean    98.636413   98.689674   98.772826   99.108696   99.324457   99.879891   \n",
       "std      8.936365    8.694396    9.311103    9.138493    9.789528   13.192860   \n",
       "min     74.400000   76.900000   79.000000   82.000000   83.400000   84.200000   \n",
       "25%     94.400000   94.675000   94.700000   94.975000   95.475000   95.850000   \n",
       "50%     98.550000   98.700000   98.700000   98.850000   98.900000   98.900000   \n",
       "75%    103.000000  102.000000  102.000000  102.000000  102.000000  102.000000   \n",
       "max    148.000000  159.000000  179.000000  160.000000  176.000000  227.000000   \n",
       "\n",
       "             1980        1985        1990        1995        2000        2005  \\\n",
       "count  184.000000  184.000000  184.000000  184.000000  184.000000  184.000000   \n",
       "mean   100.044565  100.062500  100.205435  100.248913  100.063043  100.596196   \n",
       "std     12.731213   11.692338   12.012301   12.230563   12.179210   14.790779   \n",
       "min     84.900000   85.800000   86.900000   85.400000   85.000000   84.700000   \n",
       "25%     95.875000   96.000000   96.075000   96.100000   96.275000   96.075000   \n",
       "50%     98.600000   98.550000   98.400000   98.300000   98.450000   98.450000   \n",
       "75%    102.000000  102.000000  101.000000  101.000000  101.000000  101.000000   \n",
       "max    229.000000  202.000000  203.000000  198.000000  208.000000  236.000000   \n",
       "\n",
       "             2010        2015        2020  \n",
       "count  184.000000  184.000000  184.000000  \n",
       "mean   101.782065  101.902174  102.003261  \n",
       "std     22.882347   22.148404   21.279246  \n",
       "min     84.500000   84.800000   85.100000  \n",
       "25%     96.400000   96.600000   96.675000  \n",
       "50%     98.650000   99.000000   99.050000  \n",
       "75%    101.000000  101.000000  101.000000  \n",
       "max    314.000000  307.000000  293.000000  "
      ]
     },
     "execution_count": 106,
     "metadata": {},
     "output_type": "execute_result"
    }
   ],
   "source": [
    "# this returns useful descriptive statistics for each column of data\n",
    "df_ps.describe()"
   ]
  },
  {
   "cell_type": "markdown",
   "metadata": {},
   "source": [
    "> The first thing I notice is that the sex ratio is increasing, I did not expect that! I will make a chart on the mean to get a visualisation of it."
   ]
  },
  {
   "cell_type": "code",
   "execution_count": 107,
   "metadata": {},
   "outputs": [
    {
     "data": {
      "image/png": "[encoded data removed]",
      "text/plain": [
       "<matplotlib.figure.Figure at 0x7fc3d8ec1be0>"
      ]
     },
     "metadata": {
      "needs_background": "light"
     },
     "output_type": "display_data"
    }
   ],
   "source": [
    "plt.figure(figsize=(20,5))\n",
    "plt.plot(df_ps.mean())\n",
    "plt.show()"
   ]
  },
  {
   "cell_type": "markdown",
   "metadata": {},
   "source": [
    "> I have changed the figure size so that the years are visible. From the descriptive statistics above, we can see that since 1980, the sex ratio index is > 100, meaning that since then, there are more males than females in the world. It looks like the sex ratio is increassing over time, and even further increasing since 2000.  I will try to incestigate, why. "
   ]
  },
  {
   "cell_type": "markdown",
   "metadata": {},
   "source": [
    "### Research Question 2  (Replace this header name!)"
   ]
  },
  {
   "cell_type": "code",
   "execution_count": null,
   "metadata": {
    "collapsed": true
   },
   "outputs": [],
   "source": [
    "# Continue to explore the data to address your additional research\n",
    "#   questions. Add more headers as needed if you have more questions to\n",
    "#   investigate.\n"
   ]
  },
  {
   "cell_type": "markdown",
   "metadata": {},
   "source": [
    "<a id='conclusions'></a>\n",
    "## Conclusions\n",
    "\n",
    "> **Tip**: Finally, summarize your findings and the results that have been performed. Make sure that you are clear with regards to the limitations of your exploration. If you haven't done any statistical tests, do not imply any statistical conclusions. And make sure you avoid implying causation from correlation!\n",
    "\n",
    "> **Tip**: Once you are satisfied with your work here, check over your report to make sure that it is satisfies all the areas of the rubric (found on the project submission page at the end of the lesson). You should also probably remove all of the \"Tips\" like this one so that the presentation is as polished as possible.\n",
    "\n",
    "## Submitting your Project \n",
    "\n",
    "> Before you submit your project, you need to create a .html or .pdf version of this notebook in the workspace here. To do that, run the code cell below. If it worked correctly, you should get a return code of 0, and you should see the generated .html file in the workspace directory (click on the orange Jupyter icon in the upper left).\n",
    "\n",
    "> Alternatively, you can download this report as .html via the **File** > **Download as** submenu, and then manually upload it into the workspace directory by clicking on the orange Jupyter icon in the upper left, then using the Upload button.\n",
    "\n",
    "> Once you've done this, you can submit your project by clicking on the \"Submit Project\" button in the lower right here. This will create and submit a zip file with this .ipynb doc and the .html or .pdf version you created. Congratulations!"
   ]
  },
  {
   "cell_type": "code",
   "execution_count": null,
   "metadata": {
    "collapsed": true
   },
   "outputs": [],
   "source": [
    "from subprocess import call\n",
    "call(['python', '-m', 'nbconvert', 'Investigate_a_Dataset.ipynb'])"
   ]
  }
 ],
 "metadata": {
  "kernelspec": {
   "display_name": "Python 3",
   "language": "python",
   "name": "python3"
  },
  "language_info": {
   "codemirror_mode": {
    "name": "ipython",
    "version": 3
   },
   "file_extension": ".py",
   "mimetype": "text/x-python",
   "name": "python",
   "nbconvert_exporter": "python",
   "pygments_lexer": "ipython3",
   "version": "3.7.7"
  }
 },
 "nbformat": 4,
 "nbformat_minor": 4
}
